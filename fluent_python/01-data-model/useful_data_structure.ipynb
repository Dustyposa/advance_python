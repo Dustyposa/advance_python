{
 "cells": [
  {
   "cell_type": "markdown",
   "metadata": {},
   "source": [
    "### 方便的数据结构之\n",
    "## namedtuple 与 dataclass 以及 类结构进阶的基本使用"
   ]
  },
  {
   "cell_type": "markdown",
   "metadata": {},
   "source": [
    "#### 目录\n",
    "   - [namedtuple](#namedtuple)\n",
    "   - [dataclass](#dataclass)\n",
    "   - [Python对象模型](#Python对象模型)\n",
    "   - [补充](#一些额外的补充)"
   ]
  },
  {
   "cell_type": "markdown",
   "metadata": {},
   "source": [
    "其中，`nametuple` 和 `dataclasses` 个人觉得比较相似，这两个都是用来保存数据的，我们一起来看看区别吧。"
   ]
  },
  {
   "cell_type": "markdown",
   "metadata": {},
   "source": [
    "在python内置模块 `collections` 中，有一个类为 `nametuple` 看名字我们可以大概猜出意思，有名字的元组。那么，这个 namedtuple 到底能做什么呢？  \n",
    "我们通过代码来看一下,"
   ]
  },
  {
   "cell_type": "markdown",
   "metadata": {},
   "source": [
    "namedtuple\n",
    "---"
   ]
  },
  {
   "cell_type": "code",
   "execution_count": 1,
   "metadata": {},
   "outputs": [],
   "source": [
    "from collections import namedtuple  # 导入模块"
   ]
  },
  {
   "cell_type": "code",
   "execution_count": 2,
   "metadata": {},
   "outputs": [
    {
     "data": {
      "text/plain": [
       "__main__.Foods"
      ]
     },
     "execution_count": 2,
     "metadata": {},
     "output_type": "execute_result"
    }
   ],
   "source": [
    "food = namedtuple(\"Foods\", [\"fruit\", \"price\"])  # 初始化一个对象，但是并不能直接使用。我们需要向其中加入数据。\n",
    "food"
   ]
  },
  {
   "cell_type": "code",
   "execution_count": 3,
   "metadata": {},
   "outputs": [
    {
     "data": {
      "text/plain": [
       "Foods(fruit='apple', price=123)"
      ]
     },
     "execution_count": 3,
     "metadata": {},
     "output_type": "execute_result"
    }
   ],
   "source": [
    "data_1 = food(fruit=\"apple\", price=123)\n",
    "data_1"
   ]
  },
  {
   "cell_type": "code",
   "execution_count": 4,
   "metadata": {},
   "outputs": [
    {
     "name": "stdout",
     "output_type": "stream",
     "text": [
      "apple\n",
      "123\n"
     ]
    }
   ],
   "source": [
    "# 访问数据\n",
    "print(data_1.fruit)\n",
    "print(data_1.price)"
   ]
  },
  {
   "cell_type": "code",
   "execution_count": 5,
   "metadata": {},
   "outputs": [
    {
     "ename": "AttributeError",
     "evalue": "can't set attribute",
     "output_type": "error",
     "traceback": [
      "\u001b[0;31m---------------------------------------------------------------------------\u001b[0m",
      "\u001b[0;31mAttributeError\u001b[0m                            Traceback (most recent call last)",
      "\u001b[0;32m<ipython-input-5-acfec753951a>\u001b[0m in \u001b[0;36m<module>\u001b[0;34m\u001b[0m\n\u001b[1;32m      1\u001b[0m \u001b[0;31m# 尝试更改数据\u001b[0m\u001b[0;34m\u001b[0m\u001b[0;34m\u001b[0m\u001b[0;34m\u001b[0m\u001b[0m\n\u001b[0;32m----> 2\u001b[0;31m \u001b[0mdata_1\u001b[0m\u001b[0;34m.\u001b[0m\u001b[0mfruit\u001b[0m \u001b[0;34m=\u001b[0m \u001b[0;34m\"banana\"\u001b[0m\u001b[0;34m\u001b[0m\u001b[0;34m\u001b[0m\u001b[0m\n\u001b[0m",
      "\u001b[0;31mAttributeError\u001b[0m: can't set attribute"
     ]
    }
   ],
   "source": [
    "# 尝试更改数据\n",
    "data_1.fruit = \"banana\""
   ]
  },
  {
   "cell_type": "markdown",
   "metadata": {},
   "source": [
    "#### 基本操作就是如上，可以看到我们通过 `namedtuple` 可以获得一个对象，并且可以通过属性访问.  \n",
    "#### 并且与元组 `tuple` 相同，不能更改属性，也就是对象一旦创立，遍不能更改，即不可变性依然保持着。"
   ]
  },
  {
   "cell_type": "markdown",
   "metadata": {},
   "source": [
    "> 那么问题来了，这玩意创建步骤也比较麻烦。到底有什么用呢？ \n"
   ]
  },
  {
   "cell_type": "markdown",
   "metadata": {},
   "source": [
    "#### **提高代码可读性！！！**\n",
    "你没看错，就是提高代码可读性。  \n",
    "举个栗子：\n",
    "你需要用一个数据结构保存不会变的东西，我们假设这个东西是水果。这个东西需要保存两个值，假设值分别为: apple 13。  \n",
    "我们看看元组怎么做："
   ]
  },
  {
   "cell_type": "code",
   "execution_count": 6,
   "metadata": {},
   "outputs": [
    {
     "data": {
      "text/plain": [
       "('apple', 13)"
      ]
     },
     "execution_count": 6,
     "metadata": {},
     "output_type": "execute_result"
    }
   ],
   "source": [
    "data = (\"apple\", 13)\n",
    "data"
   ]
  },
  {
   "cell_type": "markdown",
   "metadata": {},
   "source": [
    "emmm....对，很简单！一步就初始化出来了，但是我们要访问怎么办呢？这时候就只能用索引或者遍历了，如下："
   ]
  },
  {
   "cell_type": "code",
   "execution_count": 7,
   "metadata": {},
   "outputs": [
    {
     "name": "stdout",
     "output_type": "stream",
     "text": [
      "apple\n",
      "13\n",
      "apple\n",
      "13\n"
     ]
    }
   ],
   "source": [
    "print(data[0])\n",
    "print(data[1])\n",
    "for d in data:\n",
    "    print(d)"
   ]
  },
  {
   "cell_type": "markdown",
   "metadata": {},
   "source": [
    "**这时候就有问题了，如果这是你自己写的代码还好，知道数据在哪个位置(但是数据多了，有时也会忘记)，但是如果是别人来看的话，可能就比较懵逼了，需要不断的查看代码段。**  \n",
    "别怕，我们有 `namedtuple` ，来，我们看看 `namedtuple` 有什么特效。  \n",
    "数据，两个值，那么 这两个值肯定有含义的对吧， 对吧？（不要抬杠哦！）， 我们假设含义是 水果种类 和 价格   \n",
    "那么我们就可以取两个名字，为了方便认识，我们就叫 `fruit` 和 `name`吧。（不要告诉我你要用 a，b 命名。。如果打算这样命名，还是直接用元组吧。）  "
   ]
  },
  {
   "cell_type": "code",
   "execution_count": 8,
   "metadata": {},
   "outputs": [
    {
     "name": "stdout",
     "output_type": "stream",
     "text": [
      "apple 13\n",
      "big apple 26\n"
     ]
    }
   ],
   "source": [
    "# 首先呢，我们创建一个不可变的容器，这容器就叫 Fruit 吧，这个 Fruit 就保存两个值，取名如上\n",
    "super_fruit = namedtuple(\"Fruit\", [\"name\", \"price\"])  # 创建容器\n",
    "# 保存数据 gogogo\n",
    "data = super_fruit(name=\"apple\", price=13)\n",
    "# 一个不够，再来一个\n",
    "data2 = super_fruit(name=\"big apple\", price=26)\n",
    "# 继续访问数据\n",
    "print(data.name, data.price)\n",
    "print(data2.name, data2.price)"
   ]
  },
  {
   "cell_type": "markdown",
   "metadata": {},
   "source": [
    "#### 划重点 (namedtuple)"
   ]
  },
  {
   "cell_type": "markdown",
   "metadata": {},
   "source": [
    "通过 namedtuple 我们也能得到不可变的数据结构，并且可以通过属性来进行访问，大大提高了代码的可读性，并且更加 pythonic 。  \n",
    "如有元组的情况，如果结构比较复杂的话，强烈推荐使用哦！  \n",
    "[namedtuple 进阶](#namedtuple_advance)"
   ]
  },
  {
   "cell_type": "markdown",
   "metadata": {},
   "source": [
    "### 这个特殊的东西我们就先打住，我们换一个新东西 3.6 中的新模块 dataclasses 中的 dataclass(没错，这个也是用来保存数据的，并且可以数据可变)。 \n",
    "`dataclass` 用来干什么， 老规矩，我们先设想一个场景-用类来保存属性，通过属性来访问值，我们用正常的代码来看看。"
   ]
  },
  {
   "cell_type": "markdown",
   "metadata": {},
   "source": [
    "### dataclass"
   ]
  },
  {
   "cell_type": "code",
   "execution_count": 9,
   "metadata": {},
   "outputs": [],
   "source": [
    "# 假设需要一个对象类，代表测试环境数据库的连接，我们需要给一堆属性用于配置, 并添加默认参数\n",
    "class TestEnv:\n",
    "    def __init__(self, port=3306, host=\"localhost\", db=\"test_database\", tb_name=\"table_name\"):\n",
    "        self.port = port\n",
    "        self.host = host\n",
    "        self.db = db\n",
    "        self.tb_name = tb_name\n",
    "\"\"\"当然，你也可以这样写：\n",
    "class TestEnv:\n",
    "    def __init__(self):\n",
    "        self.port = 3306\n",
    "        self.host = \"localhost\"\n",
    "        self.db = \"test_database\"\n",
    "        self.tb_name = \"table_name\"\n",
    "\"\"\"\n",
    "# 我们来点 pythonic 的写法，加上类型注释\n",
    "class PythonicTestEnv:\n",
    "    def __init__(self, port: int=3306, host: str=\"localhost\", db: str=\"test_database\", tb_name: str=\"table_name\"):\n",
    "        self.port = port\n",
    "        self.host = host\n",
    "        self.db = db\n",
    "        self.tb_name = tb_name"
   ]
  },
  {
   "cell_type": "markdown",
   "metadata": {},
   "source": [
    "我们实例化对象后查看一下属性"
   ]
  },
  {
   "cell_type": "code",
   "execution_count": 10,
   "metadata": {},
   "outputs": [
    {
     "name": "stdout",
     "output_type": "stream",
     "text": [
      "3306\n",
      "table_name\n",
      "3306\n",
      "table_name\n"
     ]
    }
   ],
   "source": [
    "env = TestEnv()\n",
    "print(env.port)\n",
    "print(env.tb_name)\n",
    "\n",
    "env = PythonicTestEnv()\n",
    "print(env.port)\n",
    "print(env.tb_name)"
   ]
  },
  {
   "cell_type": "markdown",
   "metadata": {},
   "source": [
    "当然，属性与 `namedtuple` 不同，是可以改变的。"
   ]
  },
  {
   "cell_type": "code",
   "execution_count": 11,
   "metadata": {},
   "outputs": [
    {
     "name": "stdout",
     "output_type": "stream",
     "text": [
      "3308\n"
     ]
    },
    {
     "data": {
      "text/plain": [
       "<__main__.PythonicTestEnv at 0x104092be0>"
      ]
     },
     "execution_count": 11,
     "metadata": {},
     "output_type": "execute_result"
    }
   ],
   "source": [
    "env.port = 3308\n",
    "print(env.port)\n",
    "env"
   ]
  },
  {
   "cell_type": "markdown",
   "metadata": {},
   "source": [
    "所有要保证数据的不可变性的话，还是推荐使用 `namedtuple`, 但是对于这种纯数据的对象这样写比较繁琐，所以，何不试试新方法～ go！"
   ]
  },
  {
   "cell_type": "code",
   "execution_count": 12,
   "metadata": {},
   "outputs": [],
   "source": [
    "from dataclasses import dataclass"
   ]
  },
  {
   "cell_type": "code",
   "execution_count": 13,
   "metadata": {},
   "outputs": [],
   "source": [
    "@dataclass\n",
    "class DCTestEnv:\n",
    "    port: int=3306\n",
    "    host: str=\"localhost\"\n",
    "    db: str=\"test_database\"\n",
    "    tb_name: str=\"table_name\""
   ]
  },
  {
   "cell_type": "code",
   "execution_count": 14,
   "metadata": {},
   "outputs": [
    {
     "name": "stdout",
     "output_type": "stream",
     "text": [
      "3306\n",
      "table_name\n"
     ]
    },
    {
     "data": {
      "text/plain": [
       "DCTestEnv(port=3306, host='localhost', db='test_database', tb_name='table_name')"
      ]
     },
     "execution_count": 14,
     "metadata": {},
     "output_type": "execute_result"
    }
   ],
   "source": [
    "env = DCTestEnv()\n",
    "print(env.port)\n",
    "print(env.tb_name)\n",
    "env"
   ]
  },
  {
   "cell_type": "markdown",
   "metadata": {},
   "source": [
    "**看，是不是一气呵成，简单方便。**  \n",
    "细心的同学可能会发现，当对象在交互模式出现时，**输出的结果不一样！**  \n",
    "没错 `dataclass` 还帮我们把 `__repr__` 也重写好了(**划重点**)！是不是很方便！没错 dataclass 最重要的就是 省代码！省代码！省代码！ 重要的事说三遍！方便快捷，选他没错！"
   ]
  },
  {
   "cell_type": "markdown",
   "metadata": {},
   "source": [
    "> 但其实不止这些方法，`dataclass` 还帮我们重写了 \\_\\_eq\\_\\_ 什么的，我们也可以重写这些方法。"
   ]
  },
  {
   "cell_type": "markdown",
   "metadata": {},
   "source": [
    "**好了，小技巧引入完了，我们来进入正题，面向对象知识的进阶！**"
   ]
  },
  {
   "cell_type": "markdown",
   "metadata": {},
   "source": [
    "Python对象模型\n",
    "---"
   ]
  },
  {
   "cell_type": "markdown",
   "metadata": {},
   "source": [
    "这里我们通过两个对象来引入：\n",
    "   - 卡牌\n",
    "   - 向量\n"
   ]
  },
  {
   "cell_type": "markdown",
   "metadata": {},
   "source": [
    "#### 卡牌对象(FrenchDeck)"
   ]
  },
  {
   "cell_type": "markdown",
   "metadata": {},
   "source": [
    "这是一副扑克，记录了扑克的所有卡牌。\n",
    "   - 有一个 _cards 属性保存了所有的卡牌，每一张卡牌只有花色和卡牌大小\n",
    "\n",
    "要是你会怎么设计这个对象呢？\n",
    "我们来看看常规思路。\n",
    "   - 因为卡牌比较多，所以这个 _cards 肯定是循环生成的。\n",
    "   - 因为每张卡牌固定有两个属性，所以我们用不可变对象来保存能更节省空间。\n",
    "   - 不可变对象，要保存花色和卡牌，我们可以用字符串或者元组来实现。\n",
    "   - 但是字符串肯定不太合适，花色和大小相关度不是很高，也不便于维护。\n",
    "   - 所以我们用元组来实现。  \n",
    "   \n",
    "代码如下："
   ]
  },
  {
   "cell_type": "code",
   "execution_count": 15,
   "metadata": {},
   "outputs": [],
   "source": [
    "class FrenchDeck:\n",
    "    ranks = [str(i) for i in range(2, 11)] + list('JDKA')\n",
    "    suits = [\"黑桃\", \"方块\", \"梅花\", \"红桃\"]\n",
    "    def __init__(self):\n",
    "        self._cards = [(suit, rank) for suit in self.suits\n",
    "                     for rank in self.ranks]"
   ]
  },
  {
   "cell_type": "markdown",
   "metadata": {},
   "source": [
    "**我们实例化对象看看效果**"
   ]
  },
  {
   "cell_type": "code",
   "execution_count": 16,
   "metadata": {},
   "outputs": [
    {
     "data": {
      "text/plain": [
       "[('黑桃', '2'),\n",
       " ('黑桃', '3'),\n",
       " ('黑桃', '4'),\n",
       " ('黑桃', '5'),\n",
       " ('黑桃', '6'),\n",
       " ('黑桃', '7'),\n",
       " ('黑桃', '8'),\n",
       " ('黑桃', '9'),\n",
       " ('黑桃', '10'),\n",
       " ('黑桃', 'J'),\n",
       " ('黑桃', 'D'),\n",
       " ('黑桃', 'K'),\n",
       " ('黑桃', 'A'),\n",
       " ('方块', '2'),\n",
       " ('方块', '3'),\n",
       " ('方块', '4'),\n",
       " ('方块', '5'),\n",
       " ('方块', '6'),\n",
       " ('方块', '7'),\n",
       " ('方块', '8'),\n",
       " ('方块', '9'),\n",
       " ('方块', '10'),\n",
       " ('方块', 'J'),\n",
       " ('方块', 'D'),\n",
       " ('方块', 'K'),\n",
       " ('方块', 'A'),\n",
       " ('梅花', '2'),\n",
       " ('梅花', '3'),\n",
       " ('梅花', '4'),\n",
       " ('梅花', '5'),\n",
       " ('梅花', '6'),\n",
       " ('梅花', '7'),\n",
       " ('梅花', '8'),\n",
       " ('梅花', '9'),\n",
       " ('梅花', '10'),\n",
       " ('梅花', 'J'),\n",
       " ('梅花', 'D'),\n",
       " ('梅花', 'K'),\n",
       " ('梅花', 'A'),\n",
       " ('红桃', '2'),\n",
       " ('红桃', '3'),\n",
       " ('红桃', '4'),\n",
       " ('红桃', '5'),\n",
       " ('红桃', '6'),\n",
       " ('红桃', '7'),\n",
       " ('红桃', '8'),\n",
       " ('红桃', '9'),\n",
       " ('红桃', '10'),\n",
       " ('红桃', 'J'),\n",
       " ('红桃', 'D'),\n",
       " ('红桃', 'K'),\n",
       " ('红桃', 'A')]"
      ]
     },
     "execution_count": 16,
     "metadata": {},
     "output_type": "execute_result"
    }
   ],
   "source": [
    "puke_cards = FrenchDeck()\n",
    "puke_cards._cards"
   ]
  },
  {
   "cell_type": "markdown",
   "metadata": {},
   "source": [
    "emmmm..有点感觉，我们试着随机访问几个元素看看"
   ]
  },
  {
   "cell_type": "code",
   "execution_count": 20,
   "metadata": {},
   "outputs": [
    {
     "name": "stdout",
     "output_type": "stream",
     "text": [
      "('梅花', '7') 梅花 7\n",
      "('梅花', 'J') 梅花 J\n",
      "('方块', 'J') 方块 J\n"
     ]
    }
   ],
   "source": [
    "from random import randint\n",
    "\n",
    "for i in range(3):\n",
    "    card = puke_cards._cards[randint(0, 53)]\n",
    "    print(card, card[0], card[1])"
   ]
  },
  {
   "cell_type": "markdown",
   "metadata": {},
   "source": [
    "> 元素比较少，还能勉强猜出意思。我们用刚学的 nametuple 来看看。"
   ]
  },
  {
   "cell_type": "markdown",
   "metadata": {},
   "source": [
    "#### nametuple 参与创建卡牌"
   ]
  },
  {
   "cell_type": "code",
   "execution_count": 24,
   "metadata": {},
   "outputs": [],
   "source": [
    "import collections\n",
    "\n",
    "Card = collections.namedtuple('Card', ['rank', 'suit'])\n",
    "\n",
    "\n",
    "class FrenchDeck:\n",
    "    ranks = [str(n) for n in range(2, 11)] + list('JQKA')\n",
    "    suits = '黑桃 方块 梅花 红桃'.split()\n",
    "\n",
    "    def __init__(self):\n",
    "        self._cards = [Card(rank, suit) for suit in self.suits\n",
    "                       for rank in self.ranks]\n",
    "\n",
    "    def __len__(self):\n",
    "        return len(self._cards)\n",
    "\n",
    "    def __getitem__(self, position):\n",
    "        return self._cards[position]\n"
   ]
  },
  {
   "cell_type": "code",
   "execution_count": 25,
   "metadata": {},
   "outputs": [
    {
     "name": "stdout",
     "output_type": "stream",
     "text": [
      "['2', '3', '4', '5', '6', '7', '8', '9', '10', 'J', 'Q', 'K', 'A']\n"
     ]
    },
    {
     "data": {
      "text/plain": [
       "['黑桃', '方块', '梅花', '红桃']"
      ]
     },
     "execution_count": 25,
     "metadata": {},
     "output_type": "execute_result"
    }
   ],
   "source": [
    "print(FrenchDeck.ranks)  # 生成需要的卡牌列表\n",
    "FrenchDeck.suits  # 卡牌花色"
   ]
  },
  {
   "cell_type": "code",
   "execution_count": 26,
   "metadata": {},
   "outputs": [
    {
     "data": {
      "text/plain": [
       "[Card(rank='2', suit='黑桃'),\n",
       " Card(rank='3', suit='黑桃'),\n",
       " Card(rank='4', suit='黑桃'),\n",
       " Card(rank='5', suit='黑桃'),\n",
       " Card(rank='6', suit='黑桃'),\n",
       " Card(rank='7', suit='黑桃'),\n",
       " Card(rank='8', suit='黑桃'),\n",
       " Card(rank='9', suit='黑桃'),\n",
       " Card(rank='10', suit='黑桃'),\n",
       " Card(rank='J', suit='黑桃'),\n",
       " Card(rank='Q', suit='黑桃'),\n",
       " Card(rank='K', suit='黑桃'),\n",
       " Card(rank='A', suit='黑桃'),\n",
       " Card(rank='2', suit='方块'),\n",
       " Card(rank='3', suit='方块'),\n",
       " Card(rank='4', suit='方块'),\n",
       " Card(rank='5', suit='方块'),\n",
       " Card(rank='6', suit='方块'),\n",
       " Card(rank='7', suit='方块'),\n",
       " Card(rank='8', suit='方块'),\n",
       " Card(rank='9', suit='方块'),\n",
       " Card(rank='10', suit='方块'),\n",
       " Card(rank='J', suit='方块'),\n",
       " Card(rank='Q', suit='方块'),\n",
       " Card(rank='K', suit='方块'),\n",
       " Card(rank='A', suit='方块'),\n",
       " Card(rank='2', suit='梅花'),\n",
       " Card(rank='3', suit='梅花'),\n",
       " Card(rank='4', suit='梅花'),\n",
       " Card(rank='5', suit='梅花'),\n",
       " Card(rank='6', suit='梅花'),\n",
       " Card(rank='7', suit='梅花'),\n",
       " Card(rank='8', suit='梅花'),\n",
       " Card(rank='9', suit='梅花'),\n",
       " Card(rank='10', suit='梅花'),\n",
       " Card(rank='J', suit='梅花'),\n",
       " Card(rank='Q', suit='梅花'),\n",
       " Card(rank='K', suit='梅花'),\n",
       " Card(rank='A', suit='梅花'),\n",
       " Card(rank='2', suit='红桃'),\n",
       " Card(rank='3', suit='红桃'),\n",
       " Card(rank='4', suit='红桃'),\n",
       " Card(rank='5', suit='红桃'),\n",
       " Card(rank='6', suit='红桃'),\n",
       " Card(rank='7', suit='红桃'),\n",
       " Card(rank='8', suit='红桃'),\n",
       " Card(rank='9', suit='红桃'),\n",
       " Card(rank='10', suit='红桃'),\n",
       " Card(rank='J', suit='红桃'),\n",
       " Card(rank='Q', suit='红桃'),\n",
       " Card(rank='K', suit='红桃'),\n",
       " Card(rank='A', suit='红桃')]"
      ]
     },
     "execution_count": 26,
     "metadata": {},
     "output_type": "execute_result"
    }
   ],
   "source": [
    "fcards = FrenchDeck()  # 实例化对象\n",
    "fcards._cards  # 查看以下 nametuple 的出来的卡牌，是不是更加直观好看"
   ]
  },
  {
   "cell_type": "markdown",
   "metadata": {},
   "source": [
    "同样我们访问元素看看"
   ]
  },
  {
   "cell_type": "code",
   "execution_count": 27,
   "metadata": {},
   "outputs": [
    {
     "name": "stdout",
     "output_type": "stream",
     "text": [
      "Card(rank='5', suit='方块') 5 方块\n",
      "Card(rank='5', suit='黑桃') 5 黑桃\n",
      "Card(rank='J', suit='红桃') J 红桃\n"
     ]
    }
   ],
   "source": [
    "for i in range(3):\n",
    "    card = fcards._cards[randint(0, 53)]\n",
    "    print(card, card.rank, card.suit)"
   ]
  },
  {
   "cell_type": "markdown",
   "metadata": {},
   "source": [
    "> 通过属性访问，是不是可读性提高很多了呢？"
   ]
  },
  {
   "cell_type": "markdown",
   "metadata": {},
   "source": [
    "### 奇妙的对象模型"
   ]
  },
  {
   "cell_type": "markdown",
   "metadata": {},
   "source": [
    "#### 神奇的魔术方法（magic mthod） 或者 双下方法（dunder method）"
   ]
  },
  {
   "cell_type": "markdown",
   "metadata": {},
   "source": [
    "今天我们介绍两个简单的魔术方法，因为魔术方法很多以后会慢慢添加。\n",
    " - `__len__`\n",
    " - `__getitem__`\n",
    " \n",
    "可以看名字直接猜猜意思哦！"
   ]
  },
  {
   "cell_type": "markdown",
   "metadata": {},
   "source": [
    "#### `__len__`"
   ]
  },
  {
   "cell_type": "code",
   "execution_count": 31,
   "metadata": {},
   "outputs": [],
   "source": [
    "# len:\n",
    "class A:\n",
    "    def __len__(self):\n",
    "        print(\"Attention __len__ is called!!!\")\n",
    "        return 12"
   ]
  },
  {
   "cell_type": "markdown",
   "metadata": {},
   "source": [
    "其实看名字我们就能猜出个八九不离十，肯定和长度有关嘛。首先随便定义一个类，看看有什么神奇的效果！"
   ]
  },
  {
   "cell_type": "code",
   "execution_count": 32,
   "metadata": {},
   "outputs": [
    {
     "name": "stdout",
     "output_type": "stream",
     "text": [
      "Attention __len__ is called!!!\n"
     ]
    },
    {
     "data": {
      "text/plain": [
       "12"
      ]
     },
     "execution_count": 32,
     "metadata": {},
     "output_type": "execute_result"
    }
   ],
   "source": [
    "test_len = A()\n",
    "len(test_len)"
   ]
  },
  {
   "cell_type": "markdown",
   "metadata": {},
   "source": [
    "没错，其实 `len(object)` 时，就是重载了 `object.__len__`方法，不过用 `len(obj)` 看起来更加优雅哦。  \n",
    "next one！"
   ]
  },
  {
   "cell_type": "markdown",
   "metadata": {},
   "source": [
    "#### `__getitem__`"
   ]
  },
  {
   "cell_type": "code",
   "execution_count": 37,
   "metadata": {},
   "outputs": [],
   "source": [
    "class B:\n",
    "    def __getitem__(self, item):\n",
    "        print(item)\n",
    "        return \"Attention item is calling\""
   ]
  },
  {
   "cell_type": "code",
   "execution_count": 38,
   "metadata": {},
   "outputs": [
    {
     "name": "stdout",
     "output_type": "stream",
     "text": [
      "0\n"
     ]
    },
    {
     "data": {
      "text/plain": [
       "'Attention item is calling'"
      ]
     },
     "execution_count": 38,
     "metadata": {},
     "output_type": "execute_result"
    }
   ],
   "source": [
    "B()[0]"
   ]
  },
  {
   "cell_type": "markdown",
   "metadata": {},
   "source": [
    "没错 `__getitem__` 就是当索引对象时重载的方法。  \n",
    "当然，我们也可以传一些奇怪的索引给对象！"
   ]
  },
  {
   "cell_type": "code",
   "execution_count": 39,
   "metadata": {},
   "outputs": [
    {
     "name": "stdout",
     "output_type": "stream",
     "text": [
      "pythonic!\n"
     ]
    },
    {
     "data": {
      "text/plain": [
       "'Attention item is calling'"
      ]
     },
     "execution_count": 39,
     "metadata": {},
     "output_type": "execute_result"
    }
   ],
   "source": [
    "B()[\"pythonic!\"]"
   ]
  },
  {
   "cell_type": "markdown",
   "metadata": {},
   "source": [
    "> !没错！这就变成字典的索引！是不是很神奇呢？\n",
    "但是有些时候重写这两个方法也不是一件容易的事，但是我们可以偷偷懒。  \n",
    "如同定义 FrenchDeck 的操作。  \n",
    "利用原对象的特性！我们让 FrenchDeck 也具有了长度和索引的技能！\n"
   ]
  },
  {
   "cell_type": "code",
   "execution_count": 42,
   "metadata": {},
   "outputs": [
    {
     "data": {
      "text/plain": [
       "52"
      ]
     },
     "execution_count": 42,
     "metadata": {},
     "output_type": "execute_result"
    }
   ],
   "source": [
    "len(fcards)"
   ]
  },
  {
   "cell_type": "code",
   "execution_count": 45,
   "metadata": {},
   "outputs": [
    {
     "data": {
      "text/plain": [
       "Card(rank='J', suit='红桃')"
      ]
     },
     "execution_count": 45,
     "metadata": {},
     "output_type": "execute_result"
    }
   ],
   "source": [
    "fcards[randint(0, 53)]"
   ]
  },
  {
   "cell_type": "markdown",
   "metadata": {},
   "source": [
    "**如果自定义对象也需要这两个方法的时候，可以重点研究尝试一下！**"
   ]
  },
  {
   "cell_type": "markdown",
   "metadata": {},
   "source": [
    "### 总结\n",
    "学到哪，总结到哪！我们简单回顾一下我们学的：\n",
    "- [神奇的元组（namedtuple）](#namedtuple)  \n",
    "    - 用对象属性访问值的元组！更加 pythonic ！\n",
    "- [简便的数据模型 （dataclass）](#dataclass)\n",
    "    - 几行代码创建一个数据模型类！方便快捷！\n",
    "- [奇妙的对象模型](#奇妙的对象模型)\n",
    "    - [`__len__`](#`__len__`)\n",
    "    - [`__getitem__`](#`__getitem__`)"
   ]
  },
  {
   "cell_type": "markdown",
   "metadata": {},
   "source": [
    "### 一些额外的补充\n",
    "- #### 一些常见的运算魔术方法。\n",
    "- #### namedtuple 的高阶使用。"
   ]
  },
  {
   "cell_type": "markdown",
   "metadata": {},
   "source": []
  }
 ],
 "metadata": {
  "kernelspec": {
   "display_name": "Python 3",
   "language": "python",
   "name": "python3"
  },
  "language_info": {
   "codemirror_mode": {
    "name": "ipython",
    "version": 3
   },
   "file_extension": ".py",
   "mimetype": "text/x-python",
   "name": "python",
   "nbconvert_exporter": "python",
   "pygments_lexer": "ipython3",
   "version": "3.7.3"
  }
 },
 "nbformat": 4,
 "nbformat_minor": 2
}
