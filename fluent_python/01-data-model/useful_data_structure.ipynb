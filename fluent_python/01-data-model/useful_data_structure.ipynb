{
 "cells": [
  {
   "cell_type": "markdown",
   "metadata": {},
   "source": [
    "### 方便的数据结构之\n",
    "## namedtuple 与 dataclass 以及 类结构进阶的基本使用"
   ]
  },
  {
   "cell_type": "markdown",
   "metadata": {},
   "source": [
    "其中，`nametuple` 和 `dataclasses` 个人觉得比较相似，这两个都是用来保存数据的，我们一起来看看区别吧。"
   ]
  },
  {
   "cell_type": "markdown",
   "metadata": {},
   "source": [
    "在python内置模块 `collections` 中，有一个类为 `nametuple` 看名字我们可以大概猜出意思，有名字的元组。那么，这个 namedtuple 到底能做什么呢？  \n",
    "我们通过代码来看一下,"
   ]
  },
  {
   "cell_type": "code",
   "execution_count": 5,
   "metadata": {},
   "outputs": [],
   "source": [
    "from collections import namedtuple  # 导入模块"
   ]
  },
  {
   "cell_type": "code",
   "execution_count": 7,
   "metadata": {},
   "outputs": [
    {
     "data": {
      "text/plain": [
       "__main__.Foods"
      ]
     },
     "execution_count": 7,
     "metadata": {},
     "output_type": "execute_result"
    }
   ],
   "source": [
    "food = namedtuple(\"Foods\", [\"fruit\", \"price\"])  # 初始化一个对象，但是并不能直接使用。我们需要向其中加入数据。\n",
    "food"
   ]
  },
  {
   "cell_type": "code",
   "execution_count": 10,
   "metadata": {},
   "outputs": [
    {
     "data": {
      "text/plain": [
       "Foods(fruit='apple', price=123)"
      ]
     },
     "execution_count": 10,
     "metadata": {},
     "output_type": "execute_result"
    }
   ],
   "source": [
    "data_1 = food(fruit=\"apple\", price=123)\n",
    "data_1"
   ]
  },
  {
   "cell_type": "code",
   "execution_count": 11,
   "metadata": {},
   "outputs": [
    {
     "name": "stdout",
     "output_type": "stream",
     "text": [
      "apple\n",
      "123\n"
     ]
    }
   ],
   "source": [
    "# 访问数据\n",
    "print(data_1.fruit)\n",
    "print(data_1.price)"
   ]
  },
  {
   "cell_type": "code",
   "execution_count": 12,
   "metadata": {},
   "outputs": [
    {
     "ename": "AttributeError",
     "evalue": "can't set attribute",
     "output_type": "error",
     "traceback": [
      "\u001b[1;31m---------------------------------------------------------------------------\u001b[0m",
      "\u001b[1;31mAttributeError\u001b[0m                            Traceback (most recent call last)",
      "\u001b[1;32m<ipython-input-12-acfec753951a>\u001b[0m in \u001b[0;36m<module>\u001b[1;34m()\u001b[0m\n\u001b[0;32m      1\u001b[0m \u001b[1;31m# 尝试更改数据\u001b[0m\u001b[1;33m\u001b[0m\u001b[1;33m\u001b[0m\u001b[0m\n\u001b[1;32m----> 2\u001b[1;33m \u001b[0mdata_1\u001b[0m\u001b[1;33m.\u001b[0m\u001b[0mfruit\u001b[0m \u001b[1;33m=\u001b[0m \u001b[1;34m\"banana\"\u001b[0m\u001b[1;33m\u001b[0m\u001b[0m\n\u001b[0m",
      "\u001b[1;31mAttributeError\u001b[0m: can't set attribute"
     ]
    }
   ],
   "source": [
    "# 尝试更改数据\n",
    "data_1.fruit = \"banana\""
   ]
  },
  {
   "cell_type": "markdown",
   "metadata": {},
   "source": [
    "#### 基本操作就是如上，可以看到我们通过 `namedtuple` 可以获得一个对象，并且可以通过属性访问.  \n",
    "#### 并且与元组 `tuple` 相同，不能更改属性，也就是对象一旦创立，遍不能更改，即不可变性依然保持着。"
   ]
  },
  {
   "cell_type": "markdown",
   "metadata": {},
   "source": [
    "> 那么问题来了，这玩意创建步骤也比较麻烦。到底有什么用呢？ \n"
   ]
  },
  {
   "cell_type": "markdown",
   "metadata": {},
   "source": [
    "#### **提高代码可读性！！！**\n",
    "你没看错，就是提高代码可读性。  \n",
    "举个栗子：\n",
    "你需要用一个数据结构保存不会变的东西，我们假设这个东西是水果。这个东西需要保存两个值，假设值分别为: apple 13。  \n",
    "我们看看元组怎么做："
   ]
  },
  {
   "cell_type": "code",
   "execution_count": 13,
   "metadata": {},
   "outputs": [
    {
     "data": {
      "text/plain": [
       "('apple', 13)"
      ]
     },
     "execution_count": 13,
     "metadata": {},
     "output_type": "execute_result"
    }
   ],
   "source": [
    "data = (\"apple\", 13)\n",
    "data"
   ]
  },
  {
   "cell_type": "markdown",
   "metadata": {},
   "source": [
    "emmm....对，很简单！一步就初始化出来了，但是我们要访问怎么办呢？这时候就只能用索引或者遍历了，如下："
   ]
  },
  {
   "cell_type": "code",
   "execution_count": 14,
   "metadata": {},
   "outputs": [
    {
     "name": "stdout",
     "output_type": "stream",
     "text": [
      "apple\n",
      "13\n",
      "apple\n",
      "13\n"
     ]
    }
   ],
   "source": [
    "print(data[0])\n",
    "print(data[1])\n",
    "for d in data:\n",
    "    print(d)"
   ]
  },
  {
   "cell_type": "markdown",
   "metadata": {},
   "source": [
    "**这时候就有问题了，如果这是你自己写的代码还好，知道数据在哪个位置(但是数据多了，有时也会忘记)，但是如果是别人来看的话，可能就比较懵逼了，需要不断的查看代码段。**  \n",
    "别怕，我们有 `namedtuple` ，来，我们看看 `namedtuple` 有什么特效。  \n",
    "数据，两个值，那么 这两个值肯定有含义的对吧， 对吧？（不要抬杠哦！）， 我们假设含义是 水果种类 和 价格   \n",
    "那么我们就可以取两个名字，为了方便认识，我们就叫 `fruit` 和 `name`吧。（不要告诉我你要用 a，b 命名。。如果打算这样命名，还是直接用元组吧。）  "
   ]
  },
  {
   "cell_type": "code",
   "execution_count": 15,
   "metadata": {},
   "outputs": [
    {
     "name": "stdout",
     "output_type": "stream",
     "text": [
      "apple 13\n",
      "big apple 26\n"
     ]
    }
   ],
   "source": [
    "# 首先呢，我们创建一个不可变的容器，这容器就叫 Fruit 吧，这个 Fruit 就保存两个值，取名如上\n",
    "super_fruit = namedtuple(\"Fruit\", [\"name\", \"price\"])  # 创建容器\n",
    "# 保存数据 gogogo\n",
    "data = super_fruit(name=\"apple\", price=13)\n",
    "# 一个不够，再来一个\n",
    "data2 = super_fruit(name=\"big apple\", price=26)\n",
    "# 继续访问数据\n",
    "print(data.name, data.price)\n",
    "print(data2.name, data2.price)"
   ]
  },
  {
   "cell_type": "markdown",
   "metadata": {},
   "source": [
    "#### 划重点 (namedtuple)"
   ]
  },
  {
   "cell_type": "markdown",
   "metadata": {},
   "source": [
    "通过 namedtuple 我们也能得到不可变的数据结构，并且可以通过属性来进行访问，大大提高了代码的可读性，并且更加 pythonic 。  \n",
    "如有元组的情况，如果结构比较复杂的话，强烈推荐使用哦！  \n",
    "[namedtuple 进阶](#namedtuple_advance)"
   ]
  },
  {
   "cell_type": "markdown",
   "metadata": {},
   "source": [
    "### 这个特殊的东西我们就先打住，我们换一个新东西 3.6 中的新模块 dataclasses 中的 dataclass。 \n",
    "`dataclass` 用来干什么， 老规矩，我们用代码来看看。"
   ]
  }
 ],
 "metadata": {
  "kernelspec": {
   "display_name": "Python 3",
   "language": "python",
   "name": "python3"
  },
  "language_info": {
   "codemirror_mode": {
    "name": "ipython",
    "version": 3
   },
   "file_extension": ".py",
   "mimetype": "text/x-python",
   "name": "python",
   "nbconvert_exporter": "python",
   "pygments_lexer": "ipython3",
   "version": "3.7.0"
  }
 },
 "nbformat": 4,
 "nbformat_minor": 2
}
